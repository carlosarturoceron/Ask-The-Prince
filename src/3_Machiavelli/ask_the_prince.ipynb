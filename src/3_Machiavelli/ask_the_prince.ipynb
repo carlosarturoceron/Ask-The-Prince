{
 "cells": [
  {
   "cell_type": "markdown",
   "metadata": {},
   "source": [
    "## Ask the Prince\n",
    "---\n",
    "\n",
    "This notebook will allow us to ask questions to LLM that has The Prince by Machiavelli as contextt"
   ]
  },
  {
   "cell_type": "markdown",
   "metadata": {},
   "source": [
    "### Importing Libaries"
   ]
  },
  {
   "cell_type": "code",
   "execution_count": 1,
   "metadata": {},
   "outputs": [],
   "source": [
    "from langchain.llms import OpenAI\n",
    "from langchain.embeddings import OpenAIEmbeddings\n",
    "from langchain.vectorstores import FAISS"
   ]
  },
  {
   "cell_type": "code",
   "execution_count": 3,
   "metadata": {},
   "outputs": [],
   "source": [
    "import dotenv\n",
    "import os\n",
    "\n",
    "# Load variables from the .env file\n",
    "dotenv.load_dotenv(dotenv.find_dotenv(\"env\"))\n",
    "os.environ[\"OPENAI_API_KEY\"] = os.getenv(\"OPENAI_API_KEY\")"
   ]
  },
  {
   "cell_type": "markdown",
   "metadata": {},
   "source": [
    "Setting API KEY"
   ]
  },
  {
   "cell_type": "markdown",
   "metadata": {},
   "source": [
    "### Loading the book"
   ]
  },
  {
   "cell_type": "code",
   "execution_count": 4,
   "metadata": {},
   "outputs": [],
   "source": [
    "the_prince_path = \"../../data/Machiavelli/the_prince.txt\""
   ]
  },
  {
   "cell_type": "code",
   "execution_count": 5,
   "metadata": {},
   "outputs": [
    {
     "name": "stdout",
     "output_type": "stream",
     "text": [
      "The Project Gutenberg eBook of The Prince\n",
      "    \n",
      "This ebook is for the use of anyone anywhere in the United States and\n",
      "most other parts of the world at no cost and with almost no restrictions\n",
      "whatsoever. You may copy it, give it away or re-use it under the terms\n",
      "of the Project Gutenberg License includ\n"
     ]
    }
   ],
   "source": [
    "with open(the_prince_path, \"r\") as file:\n",
    "    the_prince = file.read()\n",
    "\n",
    "print(the_prince[:300])"
   ]
  },
  {
   "cell_type": "markdown",
   "metadata": {},
   "source": [
    "### Text Splitter\n",
    "---\n",
    "\n",
    "The whole text is too long to embed at the same time, so we will split it in chunks"
   ]
  },
  {
   "cell_type": "code",
   "execution_count": 6,
   "metadata": {},
   "outputs": [
    {
     "name": "stdout",
     "output_type": "stream",
     "text": [
      "793\n"
     ]
    }
   ],
   "source": [
    "from langchain.text_splitter import RecursiveCharacterTextSplitter\n",
    "\n",
    "# Text splitter\n",
    "text_splitter = RecursiveCharacterTextSplitter(\n",
    "    # Set a really small chunk size, just to show.\n",
    "    chunk_size = 500,\n",
    "    chunk_overlap = 20\n",
    ")\n",
    "\n",
    "texts = text_splitter.create_documents([the_prince])\n",
    "print(len(texts))"
   ]
  },
  {
   "cell_type": "code",
   "execution_count": null,
   "metadata": {},
   "outputs": [],
   "source": [
    "texts[:200] # Looking at small portion of the book"
   ]
  },
  {
   "cell_type": "markdown",
   "metadata": {},
   "source": [
    "### Embeeding the book\n",
    "---\n",
    "\n",
    "Using OpenAI Embeddings"
   ]
  },
  {
   "cell_type": "code",
   "execution_count": 8,
   "metadata": {},
   "outputs": [],
   "source": [
    "from langchain.embeddings import OpenAIEmbeddings\n",
    "\n",
    "embeddings = OpenAIEmbeddings()"
   ]
  },
  {
   "cell_type": "code",
   "execution_count": 9,
   "metadata": {},
   "outputs": [],
   "source": [
    "embeddings_list = embeddings.embed_documents([text.page_content for text in texts])"
   ]
  },
  {
   "cell_type": "code",
   "execution_count": 10,
   "metadata": {},
   "outputs": [
    {
     "name": "stdout",
     "output_type": "stream",
     "text": [
      "You have 793 embeddings\n",
      " Here's a sample of one: [-0.002616283325341809, -0.020187786422823248, -0.012890996777875878]...\n"
     ]
    }
   ],
   "source": [
    "print(f\"You have {len(embeddings_list)} embeddings\")\n",
    "print(f\" Here's a sample of one: {embeddings_list[0][:3]}...\")"
   ]
  },
  {
   "cell_type": "code",
   "execution_count": 11,
   "metadata": {},
   "outputs": [
    {
     "name": "stdout",
     "output_type": "stream",
     "text": [
      "1536\n"
     ]
    }
   ],
   "source": [
    "print(len(embeddings_list[0]))"
   ]
  },
  {
   "cell_type": "markdown",
   "metadata": {},
   "source": [
    "Saving the embeddings"
   ]
  },
  {
   "cell_type": "code",
   "execution_count": 12,
   "metadata": {},
   "outputs": [
    {
     "name": "stdout",
     "output_type": "stream",
     "text": [
      "Embeddings list saved to ../../data/Machiavelli/the_prince_embedded.pkl\n"
     ]
    }
   ],
   "source": [
    "import pickle\n",
    "\n",
    "# Assuming you have already generated the embeddings_list\n",
    "# ...\n",
    "\n",
    "# Specify the file path where you want to save the embeddings_list\n",
    "file_path = \"../../data/Machiavelli/the_prince_embedded.pkl\"\n",
    "\n",
    "# Open the file in binary write mode\n",
    "with open(file_path, \"wb\") as file:\n",
    "    # Serialize and save the embeddings_list to the file\n",
    "    pickle.dump(embeddings_list, file)\n",
    "\n",
    "print(f\"Embeddings list saved to {file_path}\")\n"
   ]
  },
  {
   "cell_type": "code",
   "execution_count": 13,
   "metadata": {},
   "outputs": [
    {
     "name": "stdout",
     "output_type": "stream",
     "text": [
      "[-0.002616283325341809, -0.020187786422823248, -0.012890996777875878, -0.04559853802597419, 0.006077458323439668, 0.03745685624260947]\n"
     ]
    }
   ],
   "source": [
    "# Loading the embeddings\n",
    "# To load the saved embeddings_list from the file\n",
    "with open(file_path, \"rb\") as file:\n",
    "    loaded_embeddings_list = pickle.load(file)\n",
    "\n",
    "# Now, loaded_embeddings_list contains the data from the saved file\n",
    "print(loaded_embeddings_list[0][:6])"
   ]
  },
  {
   "cell_type": "markdown",
   "metadata": {},
   "source": [
    "### Creating Vectorstore"
   ]
  },
  {
   "cell_type": "code",
   "execution_count": 14,
   "metadata": {},
   "outputs": [],
   "source": [
    "from langchain.vectorstores import FAISS\n",
    "the_prince_vectorstore = FAISS.from_documents(texts, embedding=embeddings)"
   ]
  },
  {
   "cell_type": "code",
   "execution_count": 15,
   "metadata": {},
   "outputs": [],
   "source": [
    "# Saving it\n",
    "the_prince_vectorstore.save_local(folder_path=\"../../data/Machiavelli/\", index_name=\"the_prince_vectorstore\")"
   ]
  },
  {
   "cell_type": "markdown",
   "metadata": {},
   "source": [
    "#### Questions\n",
    "---\n",
    "\n",
    "To assess how well a language model (LLM) understands the context of Machiavelli's book \"The Prince\" and can answer questions as if it were \"The Prince,\" you can ask a range of questions that cover various aspects of the book's themes, philosophy, and content. Here are some example questions you can ask, along with suggestions on how to score the responses:\n",
    "\n",
    "1. **Historical Context**:\n",
    "   - Question: \"Can you provide some historical background on the political situation during the time when 'The Prince' was written?\"\n",
    "   - Scoring: A good response should mention the time period (Renaissance Italy), the political turmoil, and perhaps specific historical events. A comprehensive answer would receive a higher score.\n",
    "\n",
    "2. **Central Themes**:\n",
    "   - Question: \"What are the central themes and ideas presented in 'The Prince'?\"\n",
    "   - Scoring: A good response should mention key themes like power, leadership, morality, and realpolitik. A response that elaborates on these themes and their implications would score higher.\n",
    "\n",
    "3. **Machiavellian Principles**:\n",
    "   - Question: \"What are some of the principles advocated by Machiavelli in 'The Prince'?\"\n",
    "   - Scoring: A comprehensive response should include concepts like virtù, fortuna, the ends justifying the means, and the importance of effective statecraft. A response that provides examples from the book would score higher.\n",
    "\n",
    "4. **Advice to Rulers**:\n",
    "   - Question: \"What advice does Machiavelli give to rulers in terms of maintaining power and stability?\"\n",
    "   - Scoring: A good response should mention strategies such as being feared vs. loved, maintaining a strong army, and adapting to changing circumstances. Specific advice from the book would earn a higher score.\n",
    "\n",
    "5. **Morality vs. Pragmatism**:\n",
    "   - Question: \"How does 'The Prince' address the conflict between moral principles and political pragmatism?\"\n",
    "   - Scoring: A thoughtful response should discuss the tension between moral values and political necessity, perhaps citing examples from the book. An in-depth analysis would score higher.\n",
    "\n",
    "6. **Influence on Political Thought**:\n",
    "   - Question: \"What impact has 'The Prince' had on political thought and practice throughout history?\"\n",
    "   - Scoring: A good response should mention the book's influence on realpolitik, political realism, and its controversial reputation. Providing specific historical examples would enhance the score.\n",
    "\n",
    "7. **Critiques and Controversies**:\n",
    "   - Question: \"What are some common criticisms and controversies surrounding 'The Prince'?\"\n",
    "   - Scoring: A comprehensive response should mention criticisms related to Machiavellian ethics and the book's perceived endorsement of ruthless behavior. Discussing differing interpretations would score higher.\n",
    "\n",
    "8. **Applicability Today**:\n",
    "   - Question: \"In what ways do you think the principles discussed in 'The Prince' are still relevant in modern politics and leadership?\"\n",
    "   - Scoring: A good response should identify contemporary examples or applications of Machiavellian principles in politics, business, or leadership. The ability to draw parallels would score higher.\n",
    "\n",
    "Scoring should be based on the depth, accuracy, and relevance of the responses. You can assign scores on a scale (e.g., 1 to 5) and evaluate each response accordingly. A well-structured and insightful answer that demonstrates a deep understanding of \"The Prince\" and its context should receive a higher score, while less comprehensive or inaccurate responses should receive lower scores.\n"
   ]
  },
  {
   "cell_type": "code",
   "execution_count": 16,
   "metadata": {},
   "outputs": [],
   "source": [
    "questions = [\n",
    "    \"Can you provide some historical background on the political situation during the time when 'The Prince' was written?\",\n",
    "    \"What are the central themes and ideas presented in 'The Prince'?\",\n",
    "    \"What are some of the principles advocated by Machiavelli in 'The Prince'?\",\n",
    "    \"What advice does Machiavelli give to rulers in terms of maintaining power and stability?\",\n",
    "    \"How does 'The Prince' address the conflict between moral principles and political pragmatism?\",\n",
    "    \"What impact has 'The Prince' had on political thought and practice throughout history?\",\n",
    "    \"What are some common criticisms and controversies surrounding 'The Prince'?\",\n",
    "    \"In what ways do you think the principles discussed in 'The Prince' are still relevant in modern politics and leadership?\"\n",
    "]"
   ]
  },
  {
   "cell_type": "markdown",
   "metadata": {},
   "source": [
    "### Chain"
   ]
  },
  {
   "cell_type": "code",
   "execution_count": 17,
   "metadata": {},
   "outputs": [],
   "source": [
    "from langchain.chains.question_answering import load_qa_chain\n",
    "from langchain.llms import OpenAI"
   ]
  },
  {
   "cell_type": "code",
   "execution_count": 18,
   "metadata": {},
   "outputs": [],
   "source": [
    "chain = load_qa_chain(\n",
    "    llm = OpenAI(\n",
    "        model_name=\"text-davinci-003\",\n",
    "        temperature=0\n",
    "        ),\n",
    "    chain_type=\"stuff\",\n",
    "    verbose=False\n",
    ")"
   ]
  },
  {
   "cell_type": "code",
   "execution_count": 19,
   "metadata": {},
   "outputs": [
    {
     "name": "stdout",
     "output_type": "stream",
     "text": [
      "------------------------------------------------------------------------------------------------------------------------\n",
      "Question: Can you provide some historical background on the political situation during the time when 'The Prince' was written?\n",
      "LMM Output:\n",
      "'The Prince' was written in 1513, when the Medici family had just regained power in Florence. In 1525, when Machiavelli dedicated the 'History of Florence' to the head of the family, its ruin was at hand.\n",
      "------------------------------------------------------------------------------------------------------------------------\n",
      "Question: What are the central themes and ideas presented in 'The Prince'?\n",
      "LMM Output:\n",
      "The central themes and ideas presented in 'The Prince' are the eternal problems between the ruled and their rulers, the ethics of Machiavelli's contemporaries, and the use of material rather than moral forces in government.\n",
      "------------------------------------------------------------------------------------------------------------------------\n",
      "Question: What are some of the principles advocated by Machiavelli in 'The Prince'?\n",
      "LMM Output:\n",
      "Machiavelli advocates that men are often dupes of their own simplicity and greed, that religion can be used to conceal vices, and that the actions of Cesare Borgia can be used as a model for usurpers who wish to keep the states they have seized.\n",
      "------------------------------------------------------------------------------------------------------------------------\n",
      "Question: What advice does Machiavelli give to rulers in terms of maintaining power and stability?\n",
      "LMM Output:\n",
      "Machiavelli advises rulers to take care not to drive the nobles to desperation and to keep the people satisfied and contented, as this is one of the most important objectives a prince can have. He also advises rulers to be aware of the difficulty of exercising absolute authority during times of tumult, as citizens and subjects may not be willing to obey.\n",
      "------------------------------------------------------------------------------------------------------------------------\n",
      "Question: How does 'The Prince' address the conflict between moral principles and political pragmatism?\n",
      "LMM Output:\n",
      "'The Prince' suggests that a prince, especially a new one, should try to adhere to moral principles when possible, but should be prepared to act contrary to them if necessary in order to maintain the state.\n",
      "------------------------------------------------------------------------------------------------------------------------\n",
      "Question: What impact has 'The Prince' had on political thought and practice throughout history?\n",
      "LMM Output:\n",
      "'The Prince' has had a lasting impact on political thought and practice throughout history. It deals with the great principles which still guide nations and rulers in their relationship with each other and their neighbours, and its insights into human nature and the use of power are still relevant today. Its maxims of state still furnish some European and eastern statesmen with principles of action, and its skillful and insightful writing has made it an enduring work of political thought.\n",
      "------------------------------------------------------------------------------------------------------------------------\n",
      "Question: What are some common criticisms and controversies surrounding 'The Prince'?\n",
      "LMM Output:\n",
      "Common criticisms and controversies surrounding 'The Prince' include its ethics being those of Machiavelli's contemporaries, its maxims of state still being used by some European and eastern statesmen, its advice to princes to know how to do wrong and make use of it, and its portrayal of religion as a cloak for vices.\n",
      "------------------------------------------------------------------------------------------------------------------------\n",
      "Question: In what ways do you think the principles discussed in 'The Prince' are still relevant in modern politics and leadership?\n",
      "LMM Output:\n",
      "The principles discussed in 'The Prince' are still relevant in modern politics and leadership in terms of the relationship between rulers and the ruled, the use of material forces rather than moral forces, the use of religion to conceal vices, and the tendency of people to look at things as they wish them to be rather than as they really are.\n"
     ]
    }
   ],
   "source": [
    "import time\n",
    "\n",
    "for question in questions:\n",
    "    print(\"------\"*20)\n",
    "    print(\"Question:\", question)\n",
    "    docs = the_prince_vectorstore.similarity_search(question)\n",
    "    output = chain.run(input_documents = docs, question=question)\n",
    "    print(\"LMM Output:\")\n",
    "    print(str.strip(output))\n",
    "    time.sleep(30)\n",
    "\n"
   ]
  },
  {
   "cell_type": "code",
   "execution_count": 20,
   "metadata": {},
   "outputs": [
    {
     "name": "stdout",
     "output_type": "stream",
     "text": [
      "------------------------------------------------------------------------------------------------------------------------\n",
      "Question: If I want to remain in power, what should I do?\n",
      "LMM Output:\n",
      "You should win friends, overcome either by force or fraud, make yourself beloved and feared by the people, be followed and revered by the soldiers, exterminate those who have power or reason to hurt you, change the old order of things for new, be severe and gracious, magnanimous and liberal, destroy a disloyal soldiery and create new, and maintain friendship with kings and princes in such a way that they must help you with zeal.\n"
     ]
    }
   ],
   "source": [
    "print(\"------\"*20)\n",
    "question = \"If I want to remain in power, what should I do?\"\n",
    "print(\"Question:\", question)\n",
    "docs = the_prince_vectorstore.similarity_search(question)\n",
    "output = chain.run(input_documents = docs, question=question)\n",
    "print(\"LMM Output:\")\n",
    "print(str.strip(output))\n",
    "time.sleep(5)"
   ]
  },
  {
   "cell_type": "markdown",
   "metadata": {},
   "source": [
    "### THE END"
   ]
  }
 ],
 "metadata": {
  "kernelspec": {
   "display_name": "langchain",
   "language": "python",
   "name": "python3"
  },
  "language_info": {
   "codemirror_mode": {
    "name": "ipython",
    "version": 3
   },
   "file_extension": ".py",
   "mimetype": "text/x-python",
   "name": "python",
   "nbconvert_exporter": "python",
   "pygments_lexer": "ipython3",
   "version": "3.9.0"
  }
 },
 "nbformat": 4,
 "nbformat_minor": 2
}
